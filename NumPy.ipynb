{
 "cells": [
  {
   "cell_type": "markdown",
   "id": "381013f1",
   "metadata": {},
   "source": [
    "# NUMPY"
   ]
  },
  {
   "cell_type": "markdown",
   "id": "780f9e87",
   "metadata": {},
   "source": [
    "NumPy is a Python library that provides support for large, multi-dimensional arrays and matrices, along with a collection of mathematical functions to operate on these arrays. \n",
    "\n",
    "NumPy introduces a powerful data structure called the \"array,\" which is similar to a list but allows you to perform operations on entire sets of data at once. Arrays are efficient and fast for numerical operations. They enable you to work with large datasets more easily than standard Python lists. NumPy can automatically apply operations to arrays of different shapes and sizes, making your code more flexible. \n",
    "\n",
    "In essence, NumPy simplifies numerical computing in Python by providing efficient ways to work with large datasets and perform mathematical operations. It's a foundational library for various scientific and data-related tasks, making it an essential tool for anyone working with numerical data in Python."
   ]
  },
  {
   "cell_type": "markdown",
   "id": "62c014f5",
   "metadata": {},
   "source": [
    "### Import NumPy"
   ]
  },
  {
   "cell_type": "code",
   "execution_count": 76,
   "id": "2aea89a8",
   "metadata": {},
   "outputs": [],
   "source": [
    "import numpy as np"
   ]
  },
  {
   "cell_type": "markdown",
   "id": "64f2384a",
   "metadata": {},
   "source": [
    "This line imports the NumPy library and gives it the alias np. The np alias is a common convention used by the Python community when working with NumPy. After this import statement, you can use NumPy functions and classes by prefixing them with np.."
   ]
  },
  {
   "cell_type": "markdown",
   "id": "a866b283",
   "metadata": {},
   "source": [
    "### Checking NumPy Version"
   ]
  },
  {
   "cell_type": "code",
   "execution_count": 77,
   "id": "c80f5a2b",
   "metadata": {},
   "outputs": [
    {
     "name": "stdout",
     "output_type": "stream",
     "text": [
      "1.24.3\n"
     ]
    }
   ],
   "source": [
    "print(np.__version__)"
   ]
  },
  {
   "cell_type": "markdown",
   "id": "91b3e13b",
   "metadata": {},
   "source": [
    "It means that you have NumPy version 1.24.3 installed. Checking the version is useful because different versions of a library may have different features, bug fixes, or improvements. It helps you ensure that your code is compatible with the version of NumPy you're using and allows you to check for updates or verify compatibility with other libraries."
   ]
  },
  {
   "cell_type": "markdown",
   "id": "2952f0dd",
   "metadata": {},
   "source": [
    "### Creating a NumPy Array"
   ]
  },
  {
   "cell_type": "code",
   "execution_count": 78,
   "id": "7de35668",
   "metadata": {},
   "outputs": [
    {
     "name": "stdout",
     "output_type": "stream",
     "text": [
      "[ 2  4  6  8 10]\n"
     ]
    }
   ],
   "source": [
    "arr = np.array([2,4,6,8,10])\n",
    "print(arr)"
   ]
  },
  {
   "cell_type": "markdown",
   "id": "d2d32049",
   "metadata": {},
   "source": [
    "This indicates that arr is a one-dimensional array containing the values 2, 4, 6, 8, and 10. The square brackets [...] denote an array in the output, and the numbers are the elements of the array.The code creates a NumPy array with five elements and prints its contents. "
   ]
  },
  {
   "cell_type": "markdown",
   "id": "d69a8a78",
   "metadata": {},
   "source": [
    "### Check Type array"
   ]
  },
  {
   "cell_type": "code",
   "execution_count": 79,
   "id": "9e7aa2af",
   "metadata": {},
   "outputs": [
    {
     "name": "stdout",
     "output_type": "stream",
     "text": [
      "[ 2  4  6  8 10]\n",
      "<class 'numpy.ndarray'>\n"
     ]
    }
   ],
   "source": [
    "arr = np.array([2,4,6,8,10])\n",
    "\n",
    "print(arr)\n",
    "\n",
    "print(type(arr))"
   ]
  },
  {
   "cell_type": "markdown",
   "id": "558362b5",
   "metadata": {},
   "source": [
    "This code demonstrates the creation of a simple one-dimensional NumPy array and confirms its data type, showcasing the use of NumPy in handling numerical data efficiently."
   ]
  },
  {
   "cell_type": "markdown",
   "id": "b4fa6e34",
   "metadata": {},
   "source": [
    "## Use a Tupple to Create a NumPy Array"
   ]
  },
  {
   "cell_type": "code",
   "execution_count": 80,
   "id": "adb30760",
   "metadata": {},
   "outputs": [
    {
     "name": "stdout",
     "output_type": "stream",
     "text": [
      "[1 2 3 4 5]\n"
     ]
    }
   ],
   "source": [
    "arr = np.array((1,2,3,4,5))\n",
    "\n",
    "print(arr)"
   ]
  },
  {
   "cell_type": "markdown",
   "id": "fbf51d2b",
   "metadata": {},
   "source": [
    "The provided code creates a NumPy array named arr using the np.array() function with a tuple containing the elements 1, 2, 3, 4, and 5. The print(arr) statement displays the contents of the array, resulting in the output [1 2 3 4 5]."
   ]
  },
  {
   "cell_type": "markdown",
   "id": "fe519e18",
   "metadata": {},
   "source": [
    "## Dimmension in Arrays"
   ]
  },
  {
   "cell_type": "markdown",
   "id": "b5c99eb1",
   "metadata": {},
   "source": [
    "In NumPy, the term \"dimension\" refers to the number of axes or directions in which data can vary. Arrays in NumPy can have one or more dimensions, and the number of dimensions is often referred to as the \"rank\" of the array."
   ]
  },
  {
   "cell_type": "markdown",
   "id": "1ec788f9",
   "metadata": {},
   "source": [
    "### Create a 0-D array"
   ]
  },
  {
   "cell_type": "markdown",
   "id": "daf43aec",
   "metadata": {},
   "source": [
    "A 0D array is a scalar, representing a single, unique value. It has zero dimensions because there is no need for an index to access its value.\n",
    "\n",
    "Example:"
   ]
  },
  {
   "cell_type": "code",
   "execution_count": 81,
   "id": "2ded7de7",
   "metadata": {},
   "outputs": [
    {
     "name": "stdout",
     "output_type": "stream",
     "text": [
      "12.2\n"
     ]
    }
   ],
   "source": [
    "import numpy as np\n",
    "\n",
    "arr = np.array(12.2)\n",
    "\n",
    "print(arr)"
   ]
  },
  {
   "cell_type": "markdown",
   "id": "63a04e95",
   "metadata": {},
   "source": [
    "### Create a 1-D array"
   ]
  },
  {
   "cell_type": "markdown",
   "id": "3efd418c",
   "metadata": {},
   "source": [
    "A 1D array is a collection of values along a single axis. It has one dimension because you need one index to access each element along the single axis.\n",
    "\n",
    "Example:"
   ]
  },
  {
   "cell_type": "code",
   "execution_count": 82,
   "id": "f3c8fbbf",
   "metadata": {},
   "outputs": [
    {
     "name": "stdout",
     "output_type": "stream",
     "text": [
      "['a' 'b' 'c']\n"
     ]
    }
   ],
   "source": [
    "arr = np.array(['a','b','c'])\n",
    "\n",
    "print(arr)"
   ]
  },
  {
   "cell_type": "markdown",
   "id": "dc6e1949",
   "metadata": {},
   "source": [
    "### Create a 2-D array"
   ]
  },
  {
   "cell_type": "markdown",
   "id": "d2e62d08",
   "metadata": {},
   "source": [
    "A 2D array is a table of values organized in rows and columns.It has two dimensions – rows and columns. You need two indices (row and column) to access an element.\n",
    "\n",
    "Example:"
   ]
  },
  {
   "cell_type": "code",
   "execution_count": 83,
   "id": "8a49b909",
   "metadata": {},
   "outputs": [
    {
     "name": "stdout",
     "output_type": "stream",
     "text": [
      "[['d' 'a']\n",
      " ['t' 'a']]\n"
     ]
    }
   ],
   "source": [
    "arr = np.array([['d','a'], ['t','a']])\n",
    "\n",
    "print(arr)"
   ]
  },
  {
   "cell_type": "markdown",
   "id": "401a057c",
   "metadata": {},
   "source": [
    "### Create a 3-D array with two "
   ]
  },
  {
   "cell_type": "markdown",
   "id": "cba17fc5",
   "metadata": {},
   "source": [
    "A 3-D array with two 2x3 matrices, where the outermost layer represents the first dimension, and each inner layer represents a 2-D matrix."
   ]
  },
  {
   "cell_type": "code",
   "execution_count": 84,
   "id": "f6a0074e",
   "metadata": {},
   "outputs": [
    {
     "name": "stdout",
     "output_type": "stream",
     "text": [
      "[[[1 2 3]\n",
      "  [4 5 6]]\n",
      "\n",
      " [[1 2 3]\n",
      "  [4 5 6]]]\n"
     ]
    }
   ],
   "source": [
    "arr = np.array([[[1,2,3], [4,5,6]], [[1,2,3], [4,5,6]]])\n",
    "\n",
    "print(arr)"
   ]
  },
  {
   "cell_type": "markdown",
   "id": "cfa0b98d",
   "metadata": {},
   "source": [
    "### Check how many dimensions the arrays have"
   ]
  },
  {
   "cell_type": "code",
   "execution_count": 85,
   "id": "9d5685a6",
   "metadata": {},
   "outputs": [
    {
     "name": "stdout",
     "output_type": "stream",
     "text": [
      "0\n",
      "1\n",
      "2\n",
      "3\n"
     ]
    }
   ],
   "source": [
    "a = np.array(4.2)\n",
    "b = np.array(['a','b','c'])\n",
    "c = np.array([['d','a'], ['t','a']])\n",
    "d = np.array([[['data'], ['analyst']], [['kelompok'], ['tiga']]])\n",
    "\n",
    "print(a.ndim)\n",
    "print(b.ndim)\n",
    "print(c.ndim)\n",
    "print(d.ndim)"
   ]
  },
  {
   "cell_type": "markdown",
   "id": "459ea4b7",
   "metadata": {},
   "source": [
    "The ndim attribute is crucial for understanding the structure and dimensionality of NumPy arrays. It helps you determine how many indices or axes are needed to access elements in the array."
   ]
  },
  {
   "cell_type": "markdown",
   "id": "f6727f8f",
   "metadata": {},
   "source": [
    "### Create an array with 7 dimensions and verify that it has 7 dimensions"
   ]
  },
  {
   "cell_type": "code",
   "execution_count": 86,
   "id": "96d0bbba",
   "metadata": {},
   "outputs": [
    {
     "name": "stdout",
     "output_type": "stream",
     "text": [
      "[[[[[[['data analyst kelas D']]]]]]]\n"
     ]
    }
   ],
   "source": [
    "import numpy as np\n",
    "\n",
    "arr = np.array(['data analyst kelas D'], ndmin=7)\n",
    "\n",
    "print(arr)"
   ]
  },
  {
   "cell_type": "markdown",
   "id": "5a21e31c",
   "metadata": {},
   "source": [
    "In NumPy, the ndmin parameter is used when creating an array to specify the minimum number of dimensions that the resulting array should have. It allows you to explicitly set the number of dimensions, ensuring that the array has at least the specified minimum dimensions."
   ]
  },
  {
   "cell_type": "markdown",
   "id": "15b7eb82",
   "metadata": {},
   "source": [
    "### get the first element from the following array"
   ]
  },
  {
   "cell_type": "code",
   "execution_count": 87,
   "id": "4e78b6e7",
   "metadata": {},
   "outputs": [
    {
     "name": "stdout",
     "output_type": "stream",
     "text": [
      "a\n"
     ]
    }
   ],
   "source": [
    "import numpy as np\n",
    "\n",
    "arr = np.array(['a','b','c'])\n",
    "\n",
    "print(arr[0])"
   ]
  },
  {
   "cell_type": "markdown",
   "id": "2d78d850",
   "metadata": {},
   "source": [
    "### get the second element from the following array"
   ]
  },
  {
   "cell_type": "code",
   "execution_count": 88,
   "id": "0992e8e9",
   "metadata": {},
   "outputs": [
    {
     "name": "stdout",
     "output_type": "stream",
     "text": [
      "b\n"
     ]
    }
   ],
   "source": [
    "import numpy as np\n",
    "\n",
    "arr = np.array(['a','b','c'])\n",
    "\n",
    "print(arr[1])"
   ]
  },
  {
   "cell_type": "markdown",
   "id": "3384dd1a",
   "metadata": {},
   "source": [
    "### get third and fourth elements and add them"
   ]
  },
  {
   "cell_type": "code",
   "execution_count": 89,
   "id": "4e5c3bfe",
   "metadata": {},
   "outputs": [
    {
     "name": "stdout",
     "output_type": "stream",
     "text": [
      "7\n"
     ]
    }
   ],
   "source": [
    "arr = np.array([1,2,3,4])\n",
    "\n",
    "print(arr[2] + arr[3])"
   ]
  },
  {
   "cell_type": "markdown",
   "id": "6be045e6",
   "metadata": {},
   "source": [
    "### access the element on the first row, second column"
   ]
  },
  {
   "cell_type": "code",
   "execution_count": 90,
   "id": "29f8693d",
   "metadata": {},
   "outputs": [
    {
     "name": "stdout",
     "output_type": "stream",
     "text": [
      "2nd element on 1st row:  2\n"
     ]
    }
   ],
   "source": [
    "arr = np.array([[1,2,3], [4,5,6]])\n",
    "\n",
    "print('2nd element on 1st row: ', arr[0,1])"
   ]
  },
  {
   "cell_type": "markdown",
   "id": "c5b60e18",
   "metadata": {},
   "source": [
    "### access the element on the 2nd row, 5th column"
   ]
  },
  {
   "cell_type": "code",
   "execution_count": 91,
   "id": "22cddb67",
   "metadata": {},
   "outputs": [
    {
     "name": "stdout",
     "output_type": "stream",
     "text": [
      "5th element on 2nd row:  2\n"
     ]
    }
   ],
   "source": [
    "arr = np.array([[1,2,3], [4,5,6]])\n",
    "\n",
    "print('5th element on 2nd row: ', arr[0,1])"
   ]
  },
  {
   "cell_type": "markdown",
   "id": "b00534cf",
   "metadata": {},
   "source": [
    "## TASK "
   ]
  },
  {
   "cell_type": "code",
   "execution_count": 92,
   "id": "9d39cc23",
   "metadata": {},
   "outputs": [
    {
     "name": "stdout",
     "output_type": "stream",
     "text": [
      "[[2 3 4 5 6]\n",
      " [4 5 6 7 8]]\n",
      "7\n",
      "[0, 2]\n",
      "11\n",
      "[5]\n"
     ]
    }
   ],
   "source": [
    "arr = np.array([[2,3,4,5,6], [4,5,6,7,8]])\n",
    "\n",
    "print(arr)\n",
    "print(arr[1,3])\n",
    "print(arr[0,2])\n",
    "print(arr[1,3]+arr[0,2])\n",
    "print(arr[1,1:2])"
   ]
  },
  {
   "cell_type": "markdown",
   "id": "0b4b2f3e",
   "metadata": {},
   "source": [
    "### access the 3rd element of the second array of the first array"
   ]
  },
  {
   "cell_type": "code",
   "execution_count": 93,
   "id": "3dfcd291",
   "metadata": {},
   "outputs": [
    {
     "name": "stdout",
     "output_type": "stream",
     "text": [
      "9\n"
     ]
    }
   ],
   "source": [
    "arr = np.array([[[1,2,3], [4,5,6]], [[7,8,9],[10,11,12]]])\n",
    "\n",
    "print(arr[1,0,2])"
   ]
  },
  {
   "cell_type": "markdown",
   "id": "c80210d2",
   "metadata": {},
   "source": [
    "### print the last element from the 2nd dim"
   ]
  },
  {
   "cell_type": "code",
   "execution_count": 94,
   "id": "419cde73",
   "metadata": {},
   "outputs": [
    {
     "name": "stdout",
     "output_type": "stream",
     "text": [
      "last element from 2nd dim:  10\n"
     ]
    }
   ],
   "source": [
    "arr = np.array([[1,2,3,4,5], [6,7,8,9,10]])\n",
    "\n",
    "print('last element from 2nd dim: ',arr[1,-1])"
   ]
  }
 ],
 "metadata": {
  "kernelspec": {
   "display_name": "Python 3 (ipykernel)",
   "language": "python",
   "name": "python3"
  },
  "language_info": {
   "codemirror_mode": {
    "name": "ipython",
    "version": 3
   },
   "file_extension": ".py",
   "mimetype": "text/x-python",
   "name": "python",
   "nbconvert_exporter": "python",
   "pygments_lexer": "ipython3",
   "version": "3.11.4"
  }
 },
 "nbformat": 4,
 "nbformat_minor": 5
}
