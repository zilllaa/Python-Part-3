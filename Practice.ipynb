{
 "cells": [
  {
   "cell_type": "markdown",
   "id": "2779166e",
   "metadata": {},
   "source": [
    "Mrs. Inge wants to determine cum laude recipients based on a minimum\n",
    " GPA threshold of 3.4. Mrs. Inge asks for your help in\n",
    " selecting cum laude recipients:\n",
    " A. Write a Python program that allows Ms. Inge to enter student names and\n",
    "      their GPAs for 5 students in the format \"Name | GPA"
   ]
  },
  {
   "cell_type": "code",
   "execution_count": 1,
   "id": "f381deab",
   "metadata": {},
   "outputs": [
    {
     "name": "stdout",
     "output_type": "stream",
     "text": [
      "Nama | GPA\n",
      "Name : A\n",
      "GPA : 3.76\n",
      "Name : B\n",
      "GPA : 2.65\n",
      "Name : C\n",
      "GPA : 4.00\n",
      "Name : D\n",
      "GPA : 3.33\n",
      "Name : E\n",
      "GPA : 3.55\n",
      "['Adi | 3.5', 'A | 3.76 (Cum laude)', 'B | 2.65 (Does not meet the eligibility criteria for cumlaude honors)', 'C | 4.0 (Cum laude)', 'D | 3.33 (Does not meet the eligibility criteria for cumlaude honors)', 'E | 3.55 (Cum laude)']\n"
     ]
    }
   ],
   "source": [
    "student=['Adi | 3.5']\n",
    "\n",
    "print('Nama | GPA')\n",
    "for i in range(5):\n",
    "    name=input('Name : ')\n",
    "    GPA=float(input('GPA : '))\n",
    "    \n",
    "    if GPA >= 3.40:\n",
    "        status ='Cum laude'\n",
    "    else:\n",
    "        status = 'Does not meet the eligibility criteria for cumlaude honors' \n",
    "        \n",
    "    data=f'{name} | {GPA} ({status})'\n",
    "    student.append(data)\n",
    "    \n",
    "print(student)"
   ]
  },
  {
   "cell_type": "markdown",
   "id": "8c42baf9",
   "metadata": {},
   "source": [
    "Based on the data entered, the program must determine the cum laude recipient's eligibility status using the following criteria \n",
    "    - If the GPA is above 3.8, then the status is \"Summa Cum Laude\"\n",
    "- If the GPA is between 3.60 to 3.79, then the status is \"Magna Cum Laude\"\n",
    " - If the GPA is between 3.59 to 3.40, then the status is \"Cum Laude\""
   ]
  },
  {
   "cell_type": "markdown",
   "id": "b50f7dfe",
   "metadata": {},
   "source": [
    " To obtain cum laude status, you are required to create a function\n",
    "      receives parameters in the form of grades and returns the status"
   ]
  },
  {
   "cell_type": "code",
   "execution_count": 2,
   "id": "169edfe0",
   "metadata": {},
   "outputs": [
    {
     "name": "stdout",
     "output_type": "stream",
     "text": [
      "Honors\n",
      "Adi | 3.5\n",
      "A | 3.76 (Cum laude)\n",
      "B | 2.65 (Does not meet the eligibility criteria for cumlaude honors)\n",
      "C | 4.0 (Cum laude)\n",
      "D | 3.33 (Does not meet the eligibility criteria for cumlaude honors)\n",
      "E | 3.55 (Cum laude)\n"
     ]
    }
   ],
   "source": [
    "print('Honors')\n",
    "for data in student:\n",
    "    print(data)"
   ]
  },
  {
   "cell_type": "code",
   "execution_count": 3,
   "id": "8f4725a2",
   "metadata": {},
   "outputs": [
    {
     "name": "stdout",
     "output_type": "stream",
     "text": [
      "GPA : 3.88\n",
      "Summa Cum Laude\n"
     ]
    }
   ],
   "source": [
    "def determine_honors(GPA):\n",
    "    if GPA >= 3.80:\n",
    "        return \"Summa Cum Laude\"\n",
    "    elif GPA >= 3.60:\n",
    "        return \"Magna Cum Laude\"\n",
    "    elif GPA >= 3.40:\n",
    "        return \"Cum Laude\"\n",
    "    else:\n",
    "        return \"Does not meet the eligibility criteria for cum laude honors\"\n",
    "    \n",
    "GPA=float(input(\"GPA : \"))\n",
    "honors = determine_honors(GPA)\n",
    "print(honors)"
   ]
  }
 ],
 "metadata": {
  "kernelspec": {
   "display_name": "Python 3 (ipykernel)",
   "language": "python",
   "name": "python3"
  },
  "language_info": {
   "codemirror_mode": {
    "name": "ipython",
    "version": 3
   },
   "file_extension": ".py",
   "mimetype": "text/x-python",
   "name": "python",
   "nbconvert_exporter": "python",
   "pygments_lexer": "ipython3",
   "version": "3.11.4"
  }
 },
 "nbformat": 4,
 "nbformat_minor": 5
}
